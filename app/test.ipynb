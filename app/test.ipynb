{
 "cells": [
  {
   "cell_type": "code",
   "execution_count": 1,
   "id": "52f33657",
   "metadata": {},
   "outputs": [],
   "source": [
    "from langchain.embeddings import OpenAIEmbeddings\n",
    "from langchain.chains import RetrievalQA\n",
    "from langchain.chat_models import ChatOpenAI\n",
    "from langchain.vectorstores import FAISS\n"
   ]
  },
  {
   "cell_type": "code",
   "execution_count": 4,
   "id": "a2d993f4",
   "metadata": {},
   "outputs": [
    {
     "ename": "PDFInfoNotInstalledError",
     "evalue": "Unable to get page count. Is poppler installed and in PATH?",
     "output_type": "error",
     "traceback": [
      "\u001b[31m---------------------------------------------------------------------------\u001b[39m",
      "\u001b[31mFileNotFoundError\u001b[39m                         Traceback (most recent call last)",
      "\u001b[36mFile \u001b[39m\u001b[32mc:\\Users\\dinhd\\miniconda3\\envs\\lab\\Lib\\site-packages\\pdf2image\\pdf2image.py:581\u001b[39m, in \u001b[36mpdfinfo_from_path\u001b[39m\u001b[34m(pdf_path, userpw, ownerpw, poppler_path, rawdates, timeout, first_page, last_page)\u001b[39m\n\u001b[32m    580\u001b[39m     env[\u001b[33m\"\u001b[39m\u001b[33mLD_LIBRARY_PATH\u001b[39m\u001b[33m\"\u001b[39m] = poppler_path + \u001b[33m\"\u001b[39m\u001b[33m:\u001b[39m\u001b[33m\"\u001b[39m + env.get(\u001b[33m\"\u001b[39m\u001b[33mLD_LIBRARY_PATH\u001b[39m\u001b[33m\"\u001b[39m, \u001b[33m\"\u001b[39m\u001b[33m\"\u001b[39m)\n\u001b[32m--> \u001b[39m\u001b[32m581\u001b[39m proc = \u001b[43mPopen\u001b[49m\u001b[43m(\u001b[49m\u001b[43mcommand\u001b[49m\u001b[43m,\u001b[49m\u001b[43m \u001b[49m\u001b[43menv\u001b[49m\u001b[43m=\u001b[49m\u001b[43menv\u001b[49m\u001b[43m,\u001b[49m\u001b[43m \u001b[49m\u001b[43mstdout\u001b[49m\u001b[43m=\u001b[49m\u001b[43mPIPE\u001b[49m\u001b[43m,\u001b[49m\u001b[43m \u001b[49m\u001b[43mstderr\u001b[49m\u001b[43m=\u001b[49m\u001b[43mPIPE\u001b[49m\u001b[43m)\u001b[49m\n\u001b[32m    583\u001b[39m \u001b[38;5;28;01mtry\u001b[39;00m:\n",
      "\u001b[36mFile \u001b[39m\u001b[32mc:\\Users\\dinhd\\miniconda3\\envs\\lab\\Lib\\subprocess.py:1026\u001b[39m, in \u001b[36mPopen.__init__\u001b[39m\u001b[34m(self, args, bufsize, executable, stdin, stdout, stderr, preexec_fn, close_fds, shell, cwd, env, universal_newlines, startupinfo, creationflags, restore_signals, start_new_session, pass_fds, user, group, extra_groups, encoding, errors, text, umask, pipesize, process_group)\u001b[39m\n\u001b[32m   1023\u001b[39m             \u001b[38;5;28mself\u001b[39m.stderr = io.TextIOWrapper(\u001b[38;5;28mself\u001b[39m.stderr,\n\u001b[32m   1024\u001b[39m                     encoding=encoding, errors=errors)\n\u001b[32m-> \u001b[39m\u001b[32m1026\u001b[39m     \u001b[38;5;28;43mself\u001b[39;49m\u001b[43m.\u001b[49m\u001b[43m_execute_child\u001b[49m\u001b[43m(\u001b[49m\u001b[43margs\u001b[49m\u001b[43m,\u001b[49m\u001b[43m \u001b[49m\u001b[43mexecutable\u001b[49m\u001b[43m,\u001b[49m\u001b[43m \u001b[49m\u001b[43mpreexec_fn\u001b[49m\u001b[43m,\u001b[49m\u001b[43m \u001b[49m\u001b[43mclose_fds\u001b[49m\u001b[43m,\u001b[49m\n\u001b[32m   1027\u001b[39m \u001b[43m                        \u001b[49m\u001b[43mpass_fds\u001b[49m\u001b[43m,\u001b[49m\u001b[43m \u001b[49m\u001b[43mcwd\u001b[49m\u001b[43m,\u001b[49m\u001b[43m \u001b[49m\u001b[43menv\u001b[49m\u001b[43m,\u001b[49m\n\u001b[32m   1028\u001b[39m \u001b[43m                        \u001b[49m\u001b[43mstartupinfo\u001b[49m\u001b[43m,\u001b[49m\u001b[43m \u001b[49m\u001b[43mcreationflags\u001b[49m\u001b[43m,\u001b[49m\u001b[43m \u001b[49m\u001b[43mshell\u001b[49m\u001b[43m,\u001b[49m\n\u001b[32m   1029\u001b[39m \u001b[43m                        \u001b[49m\u001b[43mp2cread\u001b[49m\u001b[43m,\u001b[49m\u001b[43m \u001b[49m\u001b[43mp2cwrite\u001b[49m\u001b[43m,\u001b[49m\n\u001b[32m   1030\u001b[39m \u001b[43m                        \u001b[49m\u001b[43mc2pread\u001b[49m\u001b[43m,\u001b[49m\u001b[43m \u001b[49m\u001b[43mc2pwrite\u001b[49m\u001b[43m,\u001b[49m\n\u001b[32m   1031\u001b[39m \u001b[43m                        \u001b[49m\u001b[43merrread\u001b[49m\u001b[43m,\u001b[49m\u001b[43m \u001b[49m\u001b[43merrwrite\u001b[49m\u001b[43m,\u001b[49m\n\u001b[32m   1032\u001b[39m \u001b[43m                        \u001b[49m\u001b[43mrestore_signals\u001b[49m\u001b[43m,\u001b[49m\n\u001b[32m   1033\u001b[39m \u001b[43m                        \u001b[49m\u001b[43mgid\u001b[49m\u001b[43m,\u001b[49m\u001b[43m \u001b[49m\u001b[43mgids\u001b[49m\u001b[43m,\u001b[49m\u001b[43m \u001b[49m\u001b[43muid\u001b[49m\u001b[43m,\u001b[49m\u001b[43m \u001b[49m\u001b[43mumask\u001b[49m\u001b[43m,\u001b[49m\n\u001b[32m   1034\u001b[39m \u001b[43m                        \u001b[49m\u001b[43mstart_new_session\u001b[49m\u001b[43m,\u001b[49m\u001b[43m \u001b[49m\u001b[43mprocess_group\u001b[49m\u001b[43m)\u001b[49m\n\u001b[32m   1035\u001b[39m \u001b[38;5;28;01mexcept\u001b[39;00m:\n\u001b[32m   1036\u001b[39m     \u001b[38;5;66;03m# Cleanup if the child failed starting.\u001b[39;00m\n",
      "\u001b[36mFile \u001b[39m\u001b[32mc:\\Users\\dinhd\\miniconda3\\envs\\lab\\Lib\\subprocess.py:1538\u001b[39m, in \u001b[36mPopen._execute_child\u001b[39m\u001b[34m(self, args, executable, preexec_fn, close_fds, pass_fds, cwd, env, startupinfo, creationflags, shell, p2cread, p2cwrite, c2pread, c2pwrite, errread, errwrite, unused_restore_signals, unused_gid, unused_gids, unused_uid, unused_umask, unused_start_new_session, unused_process_group)\u001b[39m\n\u001b[32m   1537\u001b[39m \u001b[38;5;28;01mtry\u001b[39;00m:\n\u001b[32m-> \u001b[39m\u001b[32m1538\u001b[39m     hp, ht, pid, tid = \u001b[43m_winapi\u001b[49m\u001b[43m.\u001b[49m\u001b[43mCreateProcess\u001b[49m\u001b[43m(\u001b[49m\u001b[43mexecutable\u001b[49m\u001b[43m,\u001b[49m\u001b[43m \u001b[49m\u001b[43margs\u001b[49m\u001b[43m,\u001b[49m\n\u001b[32m   1539\u001b[39m \u001b[43m                             \u001b[49m\u001b[38;5;66;43;03m# no special security\u001b[39;49;00m\n\u001b[32m   1540\u001b[39m \u001b[43m                             \u001b[49m\u001b[38;5;28;43;01mNone\u001b[39;49;00m\u001b[43m,\u001b[49m\u001b[43m \u001b[49m\u001b[38;5;28;43;01mNone\u001b[39;49;00m\u001b[43m,\u001b[49m\n\u001b[32m   1541\u001b[39m \u001b[43m                             \u001b[49m\u001b[38;5;28;43mint\u001b[39;49m\u001b[43m(\u001b[49m\u001b[38;5;129;43;01mnot\u001b[39;49;00m\u001b[43m \u001b[49m\u001b[43mclose_fds\u001b[49m\u001b[43m)\u001b[49m\u001b[43m,\u001b[49m\n\u001b[32m   1542\u001b[39m \u001b[43m                             \u001b[49m\u001b[43mcreationflags\u001b[49m\u001b[43m,\u001b[49m\n\u001b[32m   1543\u001b[39m \u001b[43m                             \u001b[49m\u001b[43menv\u001b[49m\u001b[43m,\u001b[49m\n\u001b[32m   1544\u001b[39m \u001b[43m                             \u001b[49m\u001b[43mcwd\u001b[49m\u001b[43m,\u001b[49m\n\u001b[32m   1545\u001b[39m \u001b[43m                             \u001b[49m\u001b[43mstartupinfo\u001b[49m\u001b[43m)\u001b[49m\n\u001b[32m   1546\u001b[39m \u001b[38;5;28;01mfinally\u001b[39;00m:\n\u001b[32m   1547\u001b[39m     \u001b[38;5;66;03m# Child is launched. Close the parent's copy of those pipe\u001b[39;00m\n\u001b[32m   1548\u001b[39m     \u001b[38;5;66;03m# handles that only the child should have open.  You need\u001b[39;00m\n\u001b[32m   (...)\u001b[39m\u001b[32m   1551\u001b[39m     \u001b[38;5;66;03m# pipe will not close when the child process exits and the\u001b[39;00m\n\u001b[32m   1552\u001b[39m     \u001b[38;5;66;03m# ReadFile will hang.\u001b[39;00m\n",
      "\u001b[31mFileNotFoundError\u001b[39m: [WinError 2] The system cannot find the file specified",
      "\nDuring handling of the above exception, another exception occurred:\n",
      "\u001b[31mPDFInfoNotInstalledError\u001b[39m                  Traceback (most recent call last)",
      "\u001b[36mCell\u001b[39m\u001b[36m \u001b[39m\u001b[32mIn[4]\u001b[39m\u001b[32m, line 8\u001b[39m\n\u001b[32m      4\u001b[39m \u001b[38;5;28;01mfrom\u001b[39;00m\u001b[38;5;250m \u001b[39m\u001b[34;01mpdf2image\u001b[39;00m\u001b[38;5;250m \u001b[39m\u001b[38;5;28;01mimport\u001b[39;00m convert_from_path\n\u001b[32m      6\u001b[39m file_path = os.path.join(os.getcwd(), \u001b[33m\"\u001b[39m\u001b[33martifacts/SGK VL 11 CTST.pdf\u001b[39m\u001b[33m\"\u001b[39m)\n\u001b[32m----> \u001b[39m\u001b[32m8\u001b[39m pages = \u001b[43mconvert_from_path\u001b[49m\u001b[43m(\u001b[49m\u001b[43mfile_path\u001b[49m\u001b[43m,\u001b[49m\u001b[43m \u001b[49m\u001b[43mdpi\u001b[49m\u001b[43m=\u001b[49m\u001b[32;43m300\u001b[39;49m\u001b[43m)\u001b[49m\n\u001b[32m      9\u001b[39m full_text = \u001b[33m\"\u001b[39m\u001b[33m\"\u001b[39m\n\u001b[32m     10\u001b[39m \u001b[38;5;28;01mfor\u001b[39;00m i, page \u001b[38;5;129;01min\u001b[39;00m \u001b[38;5;28menumerate\u001b[39m(pages):\n",
      "\u001b[36mFile \u001b[39m\u001b[32mc:\\Users\\dinhd\\miniconda3\\envs\\lab\\Lib\\site-packages\\pdf2image\\pdf2image.py:127\u001b[39m, in \u001b[36mconvert_from_path\u001b[39m\u001b[34m(pdf_path, dpi, output_folder, first_page, last_page, fmt, jpegopt, thread_count, userpw, ownerpw, use_cropbox, strict, transparent, single_file, output_file, poppler_path, grayscale, size, paths_only, use_pdftocairo, timeout, hide_annotations)\u001b[39m\n\u001b[32m    124\u001b[39m \u001b[38;5;28;01mif\u001b[39;00m \u001b[38;5;28misinstance\u001b[39m(poppler_path, PurePath):\n\u001b[32m    125\u001b[39m     poppler_path = poppler_path.as_posix()\n\u001b[32m--> \u001b[39m\u001b[32m127\u001b[39m page_count = \u001b[43mpdfinfo_from_path\u001b[49m\u001b[43m(\u001b[49m\n\u001b[32m    128\u001b[39m \u001b[43m    \u001b[49m\u001b[43mpdf_path\u001b[49m\u001b[43m,\u001b[49m\u001b[43m \u001b[49m\u001b[43muserpw\u001b[49m\u001b[43m,\u001b[49m\u001b[43m \u001b[49m\u001b[43mownerpw\u001b[49m\u001b[43m,\u001b[49m\u001b[43m \u001b[49m\u001b[43mpoppler_path\u001b[49m\u001b[43m=\u001b[49m\u001b[43mpoppler_path\u001b[49m\n\u001b[32m    129\u001b[39m \u001b[43m\u001b[49m\u001b[43m)\u001b[49m[\u001b[33m\"\u001b[39m\u001b[33mPages\u001b[39m\u001b[33m\"\u001b[39m]\n\u001b[32m    131\u001b[39m \u001b[38;5;66;03m# We start by getting the output format, the buffer processing function and if we need pdftocairo\u001b[39;00m\n\u001b[32m    132\u001b[39m parsed_fmt, final_extension, parse_buffer_func, use_pdfcairo_format = _parse_format(\n\u001b[32m    133\u001b[39m     fmt, grayscale\n\u001b[32m    134\u001b[39m )\n",
      "\u001b[36mFile \u001b[39m\u001b[32mc:\\Users\\dinhd\\miniconda3\\envs\\lab\\Lib\\site-packages\\pdf2image\\pdf2image.py:607\u001b[39m, in \u001b[36mpdfinfo_from_path\u001b[39m\u001b[34m(pdf_path, userpw, ownerpw, poppler_path, rawdates, timeout, first_page, last_page)\u001b[39m\n\u001b[32m    604\u001b[39m     \u001b[38;5;28;01mreturn\u001b[39;00m d\n\u001b[32m    606\u001b[39m \u001b[38;5;28;01mexcept\u001b[39;00m \u001b[38;5;167;01mOSError\u001b[39;00m:\n\u001b[32m--> \u001b[39m\u001b[32m607\u001b[39m     \u001b[38;5;28;01mraise\u001b[39;00m PDFInfoNotInstalledError(\n\u001b[32m    608\u001b[39m         \u001b[33m\"\u001b[39m\u001b[33mUnable to get page count. Is poppler installed and in PATH?\u001b[39m\u001b[33m\"\u001b[39m\n\u001b[32m    609\u001b[39m     )\n\u001b[32m    610\u001b[39m \u001b[38;5;28;01mexcept\u001b[39;00m \u001b[38;5;167;01mValueError\u001b[39;00m:\n\u001b[32m    611\u001b[39m     \u001b[38;5;28;01mraise\u001b[39;00m PDFPageCountError(\n\u001b[32m    612\u001b[39m         \u001b[33mf\u001b[39m\u001b[33m\"\u001b[39m\u001b[33mUnable to get page count.\u001b[39m\u001b[38;5;130;01m\\n\u001b[39;00m\u001b[38;5;132;01m{\u001b[39;00merr.decode(\u001b[33m'\u001b[39m\u001b[33mutf8\u001b[39m\u001b[33m'\u001b[39m,\u001b[38;5;250m \u001b[39m\u001b[33m'\u001b[39m\u001b[33mignore\u001b[39m\u001b[33m'\u001b[39m)\u001b[38;5;132;01m}\u001b[39;00m\u001b[33m\"\u001b[39m\n\u001b[32m    613\u001b[39m     )\n",
      "\u001b[31mPDFInfoNotInstalledError\u001b[39m: Unable to get page count. Is poppler installed and in PATH?"
     ]
    }
   ],
   "source": [
    "import os\n",
    "import pytesseract\n",
    "from PIL import Image\n",
    "from pdf2image import convert_from_path\n",
    "\n",
    "file_path = os.path.join(os.getcwd(), \"artifacts/SGK VL 11 CTST.pdf\")\n",
    "\n",
    "pages = convert_from_path(file_path, dpi=300)\n",
    "full_text = \"\"\n",
    "for i, page in enumerate(pages):\n",
    "    text = pytesseract.image_to_string(page, lang='vie')\n",
    "    full_text += f\"\\n=== Trang {i+1} ===\\n{text}\"\n",
    "\n",
    "embeddings = OpenAIEmbeddings()"
   ]
  },
  {
   "cell_type": "code",
   "execution_count": null,
   "id": "62d21791",
   "metadata": {},
   "outputs": [
    {
     "data": {
      "text/plain": [
       "'9\\nV/uni1EACT LÍ 11\\nLi đ/uni1ED9 c/uni1EE7a v/uni1EADt dao đ/uni1ED9ng là to/uni1EA1 đ/uni1ED9 c/uni1EE7a v/uni1EADt mà g/uni1ED1c to/uni1EA1 \\nđ/uni1ED9 đư/uni1EE3c ch/uni1ECDn trùng v/uni1EDBi v/uni1ECB trí cân b/uni1EB1ng.\\nBiên đ/uni1ED9 là đ/uni1ED9 l/uni1EDBn c/uni1EF1c đ/uni1EA1i c/uni1EE7a li đ/uni1ED9.\\nDao đ/uni1ED9ng đi/uni1EC1u hoà là dao đ/uni1ED9ng tu/uni1EA7n hoàn mà li đ/uni1ED9 \\nc/uni1EE7a v/uni1EADt dao đ/uni1ED9ng là m/uni1ED9t hàm cosin (ho/uni1EB7c sin) theo \\nth/uni1EDDi gian.\\nTrong Hình 1.5, ta th/uni1EA5y t/uni1EA1i các th/uni1EDDi đi/uni1EC3m t\\n0, t1 và t2, v/uni1EADt n/uni1EB7ng \\ncó cùng tr/uni1EA1ng thái chuy/uni1EC3n đ/uni1ED9ng: đ/uni1EBFn biên âm và b/uni1EAFt đ/uni1EA7u \\nchuy/uni1EC3n đ/uni1ED9ng đi lên. Kho/uni1EA3ng th/uni1EDDi gian ng/uni1EAFn nh/uni1EA5t gi/uni1EEFa hai \\nl/uni1EA7n v/uni1EADt có cùng tr/uni1EA1ng thái chuy/uni1EC3n đ/uni1ED9ng đư/uni1EE3c g/uni1ECDi là chu kì \\ndao đ/uni1ED9ng T. Trong m/uni1ED9t chu kì dao đ/uni1ED9ng, v/uni1EADt hoàn thành \\nđư/uni1EE3c m/uni1ED9t dao đ/uni1ED9ng hay m/uni1ED9t chu trình dao đ/uni1ED9ng.\\nTrên th/uni1EF1c t/uni1EBF, ngư/uni1EDDi ta thư/uni1EDDng s/uni1EED d/uni1EE5ng thu/uni1EADt ng/uni1EEF t/uni1EA7n s/uni1ED1 \\ndao đ/uni1ED9ng như là m/uni1ED9t đ/uni1EB7c trưng c/uni1EE7a dao đ/uni1ED9ng đ/uni1EC3 cho bi/uni1EBFt \\ns/uni1ED1 dao đ/uni1ED9ng mà v/uni1EADt th/uni1EF1c hi/uni1EC7n trong m/uni1ED9t giây.\\n  Khái ni/uni1EC7m dao đ/uni1ED9ng đi/uni1EC1u hoà\\nKhi l/uni1EF1c c/uni1EA3n trong quá trình dao đ/uni1ED9ng là không đáng k/uni1EC3, đ/uni1ED3 \\nth/uni1ECB to/uni1EA1 đ/uni1ED9 – th/uni1EDDi gian, cũng chính là đ/uni1ED3 th/uni1ECB li đ/uni1ED9 – th/uni1EDDi gian, \\ncó d/uni1EA1ng hình sin. Dao đ/uni1ED9ng có tính ch/uni1EA5t này đư/uni1EE3c g/uni1ECDi là \\ndao đ/uni1ED9ng đi/uni1EC1u hoà.\\nTrong quá trình dao đ/uni1ED9ng, v/uni1EADt n/uni1EB7ng s/uni1EBD đ/uni1EBFn hai biên, \\nd/uni1EEBng l/uni1EA1i và đ/uni1ED5i chi/uni1EC1u chuy/uni1EC3n đ/uni1ED9ng. Biên /uni1EE9ng v/uni1EDBi to/uni1EA1 đ/uni1ED9 \\ndương đư/uni1EE3c g/uni1ECDi là biên dương, biên còn l/uni1EA1i là biên âm. \\nKhi /uni1EDF hai biên, li đ/uni1ED9 c/uni1EE7a v/uni1EADt dao đ/uni1ED9ng có đ/uni1ED9 l/uni1EDBn c/uni1EF1c đ/uni1EA1i. \\nĐ/uni1ED9 l/uni1EDBn c/uni1EF1c đ/uni1EA1i c/uni1EE7a li đ/uni1ED9 đư/uni1EE3c g/uni1ECDi là biên đ/uni1ED9 A c/uni1EE7a v/uni1EADt \\ndao đ/uni1ED9ng. Biên đ/uni1ED9 dao đ/uni1ED9ng luôn có giá tr/uni1ECB dương.\\nChu kì dao đ/uni1ED9ng là kho/uni1EA3ng th/uni1EDDi gian đ/uni1EC3 v/uni1EADt \\nth/uni1EF1c hi/uni1EC7n đư/uni1EE3c m/uni1ED9t dao đ/uni1ED9ng. T/uni1EA7n s/uni1ED1 dao đ/uni1ED9ng \\nđư/uni1EE3c xác đ/uni1ECBnh b/uni1EDFi s/uni1ED1 dao đ/uni1ED9ng mà v/uni1EADt th/uni1EF1c hi/uni1EC7n \\nđư/uni1EE3c trong m/uni1ED9t giây.\\nf T 1  (1.1)\\nTrong h/uni1EC7 SI, chu kì dao đ/uni1ED9ng có đơn v/uni1ECB là giây (s) và \\nt/uni1EA7n s/uni1ED1 dao đ/uni1ED9ng có đơn v/uni1ECB là héc (Hz).\\nS Hình 1.6. Ong m/uni1EADt bay t/uni1EA1i ch/uni1ED7 \\ntrong không trung\\n6. M/uni1ED9t con ong m/uni1EADt đang bay t/uni1EA1i ch/uni1ED7 \\ntrong không trung (Hình 1.6),  \\nđ/uni1EADp cánh v/uni1EDBi t/uni1EA7n s/uni1ED1 kho/uni1EA3ng \\n300 Hz. Xác đ/uni1ECBnh s/uni1ED1 dao đ/uni1ED9ng mà \\ncánh ong m/uni1EADt th/uni1EF1c hi/uni1EC7n trong \\n1 s và chu kì dao đ/uni1ED9ng c/uni1EE7a \\ncánh ong.'"
      ]
     },
     "execution_count": 8,
     "metadata": {},
     "output_type": "execute_result"
    }
   ],
   "source": [
    "docs[10].page_content"
   ]
  },
  {
   "cell_type": "code",
   "execution_count": null,
   "id": "8c9d1d34",
   "metadata": {},
   "outputs": [
    {
     "name": "stdout",
     "output_type": "stream",
     "text": [
      "5\n",
      "VẬT LÍ 11\n",
      "'$2\u0003ïų1*\n",
      "Chương 1\n",
      "0\u00037l\u0003'$2\u0003ô1*\n",
      "1\n",
      "Bài\n",
      "– Thí nghiệm đơn giản về dao động, một số ví dụ đơn giản về dao động tự do.\n",
      "– Định nghĩa biên độ, chu kì, tần số, tần số góc, độ lệch pha.\n",
      "– Mô tả dao động điều hoà.\n",
      "S Hình 1.1. a) Đồng hồ quả lắc; \n",
      "b) Chim ruồi đang hút mật\n",
      "a)\n",
      "b)\n",
      "Sự dao động của các vật diễn ra phổ biến trong cuộc \n",
      "sống hằng ngày như: dao động của quả lắc đồng hồ \n",
      "(Hình 1.1a), dao động của cánh chim ruồi(*) để giữ \n",
      "cho cơ thể bay tại chỗ trong không trung khi hút mật \n",
      "(Hình 1.1b). Vậy dao động có đặc điểm gì và được mô tả \n",
      "như thế nào? \n",
      "1   KHÁI NIỆM DAO ĐỘNG TỰ DO \n",
      "  Khái niệm dao động \n",
      "Chuyển động của những vật trong Hình 1.1 (quả lắc, \n",
      "cánh chim) có điểm chung là sự chuyển động có tính lặp lại \n",
      "và có giới hạn trong không gian. Những chuyển động như vậy \n",
      "được gọi là dao động cơ học. Một số vật thực hiện dao động \n",
      "cơ học quanh một vị trí đặc biệt được gọi là vị trí cân bằng.\n",
      "1. Từ một số dụng cụ đơn giản như: \n",
      "lò xo nhẹ, dây nhẹ không dãn, \n",
      "vật nặng và giá đỡ.\n",
      "a) Em hãy thực hiện hai thí nghiệm sau:\n",
      "– Cố định một đầu của lò xo, gắn \n",
      "vật nặng vào đầu còn lại của lò \n",
      "xo như Hình 1.2a. Kéo vật nặng \n",
      "xuống một đoạn theo phương \n",
      "thẳng đứng và buông nhẹ.\n",
      "– Cố định một đầu của dây nhẹ \n",
      "không dãn, gắn vật nặng vào \n",
      "đầu còn lại của dây. Kéo vật \n",
      "nặng để dây treo lệch một góc \n",
      "xác định và buông nhẹ.\n",
      "b) Quan sát và mô tả chuyển động \n",
      "của các vật, nêu điểm giống \n",
      "nhau về chuyển động của chúng.\n",
      "Dao động cơ học là sự chuyển động có giới hạn trong \n",
      "không gian của một vật quanh một vị trí xác định. \n",
      "Vị trí đó gọi là vị trí cân bằng.\n",
      "Dao động rất phổ biến trong tự nhiên và khoa học kĩ thuật. \n",
      "Trong điện và từ học cũng có hiện tượng dao động. Dòng \n",
      "điện được sử dụng trong sinh hoạt hằng ngày là dao động \n",
      "điện từ.\n",
      "(*) Chim ruồi là loài chim có thân hình bé nhỏ, có khả năng bay cố định một chỗ trong không trung hoặc bay giật lùi.\n",
      "\n"
     ]
    }
   ],
   "source": [
    "import fitz\n",
    "\n",
    "doc = fitz.open(file_path)\n",
    "text = doc[6].get_text(\"text\")\n",
    "print(text)"
   ]
  },
  {
   "cell_type": "code",
   "execution_count": null,
   "id": "d2568924",
   "metadata": {},
   "outputs": [],
   "source": []
  }
 ],
 "metadata": {
  "kernelspec": {
   "display_name": "lab",
   "language": "python",
   "name": "python3"
  },
  "language_info": {
   "codemirror_mode": {
    "name": "ipython",
    "version": 3
   },
   "file_extension": ".py",
   "mimetype": "text/x-python",
   "name": "python",
   "nbconvert_exporter": "python",
   "pygments_lexer": "ipython3",
   "version": "3.12.6"
  }
 },
 "nbformat": 4,
 "nbformat_minor": 5
}
